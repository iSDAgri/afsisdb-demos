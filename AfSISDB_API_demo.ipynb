{
 "cells": [
  {
   "cell_type": "markdown",
   "metadata": {
    "cell_style": "center",
    "toc": "true"
   },
   "source": [
    "# Table of Contents\n",
    " <p><div class=\"lev1 toc-item\"><a href=\"#Using-the-AfSIS-DB-API\" data-toc-modified-id=\"Using-the-AfSIS-DB-API-1\"><span class=\"toc-item-num\">1&nbsp;&nbsp;</span>Using the AfSIS DB API</a></div><div class=\"lev1 toc-item\"><a href=\"#Introduction\" data-toc-modified-id=\"Introduction-2\"><span class=\"toc-item-num\">2&nbsp;&nbsp;</span>Introduction</a></div><div class=\"lev2 toc-item\"><a href=\"#Background\" data-toc-modified-id=\"Background-21\"><span class=\"toc-item-num\">2.1&nbsp;&nbsp;</span>Background</a></div><div class=\"lev2 toc-item\"><a href=\"#Purpose-of-this-Notebook\" data-toc-modified-id=\"Purpose-of-this-Notebook-22\"><span class=\"toc-item-num\">2.2&nbsp;&nbsp;</span>Purpose of this Notebook</a></div><div class=\"lev1 toc-item\"><a href=\"#Load-Libraries-and-Credentials\" data-toc-modified-id=\"Load-Libraries-and-Credentials-3\"><span class=\"toc-item-num\">3&nbsp;&nbsp;</span>Load Libraries and Credentials</a></div><div class=\"lev1 toc-item\"><a href=\"#Downloading-by-API\" data-toc-modified-id=\"Downloading-by-API-4\"><span class=\"toc-item-num\">4&nbsp;&nbsp;</span>Downloading by API</a></div><div class=\"lev2 toc-item\"><a href=\"#Documentation\" data-toc-modified-id=\"Documentation-41\"><span class=\"toc-item-num\">4.1&nbsp;&nbsp;</span>Documentation</a></div><div class=\"lev2 toc-item\"><a href=\"#Making-API-Calls\" data-toc-modified-id=\"Making-API-Calls-42\"><span class=\"toc-item-num\">4.2&nbsp;&nbsp;</span>Making API Calls</a></div><div class=\"lev3 toc-item\"><a href=\"#Basic-Call\" data-toc-modified-id=\"Basic-Call-421\"><span class=\"toc-item-num\">4.2.1&nbsp;&nbsp;</span>Basic Call</a></div><div class=\"lev3 toc-item\"><a href=\"#Handling-Pagination\" data-toc-modified-id=\"Handling-Pagination-422\"><span class=\"toc-item-num\">4.2.2&nbsp;&nbsp;</span>Handling Pagination</a></div><div class=\"lev2 toc-item\"><a href=\"#Filtering\" data-toc-modified-id=\"Filtering-43\"><span class=\"toc-item-num\">4.3&nbsp;&nbsp;</span>Filtering</a></div><div class=\"lev3 toc-item\"><a href=\"#Machine-Type\" data-toc-modified-id=\"Machine-Type-431\"><span class=\"toc-item-num\">4.3.1&nbsp;&nbsp;</span>Machine Type</a></div><div class=\"lev3 toc-item\"><a href=\"#Group\" data-toc-modified-id=\"Group-432\"><span class=\"toc-item-num\">4.3.2&nbsp;&nbsp;</span>Group</a></div><div class=\"lev2 toc-item\"><a href=\"#Downloading\" data-toc-modified-id=\"Downloading-44\"><span class=\"toc-item-num\">4.4&nbsp;&nbsp;</span>Downloading</a></div><div class=\"lev2 toc-item\"><a href=\"#Other-tables\" data-toc-modified-id=\"Other-tables-45\"><span class=\"toc-item-num\">4.5&nbsp;&nbsp;</span>Other tables</a></div>"
   ]
  },
  {
   "cell_type": "markdown",
   "metadata": {
    "ExecuteTime": {
     "end_time": "2017-10-16T00:22:23.717310",
     "start_time": "2017-10-15T22:22:23.700Z"
    }
   },
   "source": [
    "# Using the AfSIS DB API\n",
    "\n",
    "QED | https://qed.ai"
   ]
  },
  {
   "cell_type": "markdown",
   "metadata": {},
   "source": [
    "# Introduction"
   ]
  },
  {
   "cell_type": "markdown",
   "metadata": {},
   "source": [
    "## Background "
   ]
  },
  {
   "cell_type": "markdown",
   "metadata": {},
   "source": [
    "[AfSIS DB](https://afsisdb.qed.ai) is a data management system for soil laboratory data, developed by QED for the Africa Soil Information Service (AfSIS). The key features that it provides include:\n",
    "\n",
    "* Database storage for both relational and binary blob data, using PostgreSQL and S3, respectively.\n",
    "* Web interface for uploading data, with support for server-side input validation.\n",
    "* Web interface for searching and exporting data, including API support.\n",
    "* Optional linking of laboratory data with field metadata collected using [Mobilesurvey](https://mobilesurvey.qed.ai).\n",
    "* Access controls for groups and public vs. private data.\n",
    "\n",
    "Because AfSIS DB runs on the web, it is cross-platform compatible. At the time of this writing, AfSIS DB now stores over 175,000 records of soil chemistry measurements unique to Africa, mostly from the AfSIS Phase II focus contries of Tanzania, Ghana, Nigeria, and Ethiopia. \n",
    "\n",
    "To register for an account on AfSIS DB, please submit a request for an invite at https://afsisdb.qed.ai.\n",
    "\n",
    "You are also invited to view our tutorial videos on YouTube:\n",
    "\n",
    "[![Introduction to AfSIS DB](https://qed.ai/afsisdb_images/QED_Intro_AfSISDB.jpg)](https://www.youtube.com/watch?v=CswaipfQxCs \"Introduction to AfSIS DB\")\n",
    "\n",
    "[![Using the AfSIS DB API](https://qed.ai/afsisdb_images/QED_Using_AfSISDB_API.jpg)](https://www.youtube.com/watch?v=z46n1yaSXhU \"Using the AfSIS DB API\")\n"
   ]
  },
  {
   "cell_type": "markdown",
   "metadata": {},
   "source": [
    "## Purpose of this Notebook\n",
    "\n",
    "In this notebook, we demonstrate the usage of API calls to fetch data from AfSIS DB programmatically, using R. Another notebook demonstrating analogous operations in Python will be added to this repository in the near future."
   ]
  },
  {
   "cell_type": "markdown",
   "metadata": {},
   "source": [
    "# Load Libraries and Credentials"
   ]
  },
  {
   "cell_type": "markdown",
   "metadata": {},
   "source": [
    "First we must load your AfSIS DB credentials. Here I have stored them in a config file named \"config.ini\", the contents of which are simply:\n",
    "\n",
    "    username = \"your_username\"\n",
    "    password = \"your_password\"\n",
    "   \n",
    "where you should replace the strings here with your own credentials. Do include the quotation marks. Make sure this file is stored in the same working directory as this notebook, and then execute the sourcing line below."
   ]
  },
  {
   "cell_type": "code",
   "execution_count": null,
   "metadata": {
    "ExecuteTime": {
     "end_time": "2017-10-18T09:31:31.376737",
     "start_time": "2017-10-18T07:31:31.319Z"
    },
    "collapsed": true
   },
   "outputs": [],
   "source": [
    "source(\"config.ini\")"
   ]
  },
  {
   "cell_type": "markdown",
   "metadata": {
    "ExecuteTime": {
     "end_time": "2017-10-16T00:36:46.691252",
     "start_time": "2017-10-15T22:36:46.678Z"
    }
   },
   "source": [
    "Next we install and load some packages. \n",
    "* \"httr\" is used for working with HTTP verbs, and installs \"jsonlite\" as a dependency. \n",
    "* \"lubridate\" is used for date-time manipulation and arithemtic.\n",
    "* \"plyr\" is a popular general toolkit for dataset manipulation."
   ]
  },
  {
   "cell_type": "code",
   "execution_count": null,
   "metadata": {
    "ExecuteTime": {
     "end_time": "2017-10-18T09:33:15.938307",
     "start_time": "2017-10-18T07:32:55.469Z"
    },
    "collapsed": false
   },
   "outputs": [],
   "source": [
    "install.packages(c(\"httr\", \"jsonlite\", \"lubridate\", \"plyr\"))"
   ]
  },
  {
   "cell_type": "code",
   "execution_count": null,
   "metadata": {
    "ExecuteTime": {
     "end_time": "2017-10-18T09:33:29.884286",
     "start_time": "2017-10-18T07:33:29.765Z"
    },
    "collapsed": false
   },
   "outputs": [],
   "source": [
    "library(httr)\n",
    "library(jsonlite)\n",
    "library(plyr)"
   ]
  },
  {
   "cell_type": "markdown",
   "metadata": {},
   "source": [
    "# Downloading by API"
   ]
  },
  {
   "cell_type": "markdown",
   "metadata": {},
   "source": [
    "## Documentation"
   ]
  },
  {
   "cell_type": "markdown",
   "metadata": {},
   "source": [
    "To view the full API documentation, please register for an account on AfSIS DB, log in, and *then* visit the URL: https://afsisdb.qed.ai/cabinet/api-docs/. You will see auto-generated and interactive documentation for every table, such as the following:\n",
    "\n",
    "![AfSISDB_API](https://qed.ai/AfSISDB_API_mini.jpg \"AfSIS DB API\")"
   ]
  },
  {
   "cell_type": "markdown",
   "metadata": {},
   "source": [
    "## Making API Calls"
   ]
  },
  {
   "cell_type": "markdown",
   "metadata": {},
   "source": [
    "### Basic Call"
   ]
  },
  {
   "cell_type": "markdown",
   "metadata": {},
   "source": [
    "In the following function, we make an API call to AfSIS DB and merge the matching query results into a data frame, replacing null values with R's NA symbol."
   ]
  },
  {
   "cell_type": "code",
   "execution_count": null,
   "metadata": {
    "ExecuteTime": {
     "end_time": "2017-10-18T09:33:39.910721",
     "start_time": "2017-10-18T07:33:39.883Z"
    },
    "collapsed": false
   },
   "outputs": [],
   "source": [
    "# row bind data with missing cells\n",
    "rbind_apicall <- function(apicall) {\n",
    "    apicall_df_singlepage <- rbind.fill(lapply(content(apicall)$results, \n",
    "        function(f) { as.data.frame(Filter(Negate(is.null), f)) } ))\n",
    "    return(apicall_df_singlepage)\n",
    "}"
   ]
  },
  {
   "cell_type": "markdown",
   "metadata": {},
   "source": [
    "### Handling Pagination"
   ]
  },
  {
   "cell_type": "markdown",
   "metadata": {},
   "source": [
    "Queries to AfSIS DB are currently paginated such that one has finer control over the response size. To iterate through all the pages and merge them into one dataframe, we can use a for loop, as shown below. We add a simple progress bar to visualize the progress.\n",
    "\n",
    "This is the \"api_to_df\" function that will be used in the remainder of this tutorial."
   ]
  },
  {
   "cell_type": "code",
   "execution_count": null,
   "metadata": {
    "ExecuteTime": {
     "end_time": "2017-10-18T09:33:41.626015",
     "start_time": "2017-10-18T07:33:41.611Z"
    },
    "collapsed": false
   },
   "outputs": [],
   "source": [
    "# returns dataframe from an API call, stitching together results from all pages\n",
    "api_to_df <- function(url, username, password){\n",
    "    apicall_data <- GET(url, authenticate(username,password))\n",
    "    apicall_data_df <- rbind_apicall(apicall_data)\n",
    "    apicall_data_content <- content(apicall_data)\n",
    "    num_pages <- ceiling(apicall_data_content$count/10)\n",
    "    progress_bar = txtProgressBar(min = 1, max = num_pages-1, initial = 0, style=3) \n",
    "\n",
    "    for (i in 2:num_pages) {\n",
    "        setTxtProgressBar(progress_bar,i)\n",
    "        apicall_data_next <- GET(paste(url, paste(\"page=\", i,sep=\"\"),sep=\"&\"), \n",
    "                                 authenticate(username,password))\n",
    "        apicall_data_df_next <- rbind_apicall(apicall_data_next)\n",
    "        apicall_data_df <- rbind.fill(apicall_data_df, apicall_data_df_next)                            \n",
    "    }\n",
    "    return(apicall_data_df)\n",
    "}"
   ]
  },
  {
   "cell_type": "markdown",
   "metadata": {},
   "source": [
    "## Filtering"
   ]
  },
  {
   "cell_type": "markdown",
   "metadata": {},
   "source": [
    "### Machine Type\n",
    "\n",
    "The machines that AfSIS DB currently supports are the Bruker alpha_znse, alpha_kbr, mpa, and htsxt. \n",
    "\n",
    "In this example, we can search only for spectral files generated by the MPA, an FT-NIR spectrometer."
   ]
  },
  {
   "cell_type": "code",
   "execution_count": null,
   "metadata": {
    "ExecuteTime": {
     "end_time": "2017-10-18T09:35:23.924993",
     "start_time": "2017-10-18T07:33:43.947Z"
    },
    "collapsed": false
   },
   "outputs": [],
   "source": [
    "mpa_url <- \"http://afsisdb.qed.ai/cabinet/api/sample/?machine=mpa\"\n",
    "mpa_df <- api_to_df(mpa_url, username, password)"
   ]
  },
  {
   "cell_type": "markdown",
   "metadata": {},
   "source": [
    "We can inspect summary statistics about the data frame."
   ]
  },
  {
   "cell_type": "code",
   "execution_count": null,
   "metadata": {
    "ExecuteTime": {
     "end_time": "2017-10-18T09:35:23.946994",
     "start_time": "2017-10-18T07:33:44.850Z"
    },
    "collapsed": false
   },
   "outputs": [],
   "source": [
    "str(mpa_df)"
   ]
  },
  {
   "cell_type": "markdown",
   "metadata": {},
   "source": [
    "### Group"
   ]
  },
  {
   "cell_type": "markdown",
   "metadata": {},
   "source": [
    "Here we demonstrate filtering by Group affiliation."
   ]
  },
  {
   "cell_type": "code",
   "execution_count": null,
   "metadata": {
    "ExecuteTime": {
     "end_time": "2017-10-18T09:35:38.872849",
     "start_time": "2017-10-18T07:35:34.300Z"
    },
    "collapsed": false
   },
   "outputs": [],
   "source": [
    "TanSIS_mpa_url <- \"http://afsisdb.qed.ai/cabinet/api/sample/?group=TanSIS&machine=mpa\"\n",
    "TanSIS_mpa_df <- api_to_df(TanSIS_mpa_url, username, password)"
   ]
  },
  {
   "cell_type": "code",
   "execution_count": null,
   "metadata": {
    "ExecuteTime": {
     "end_time": "2017-10-18T09:35:38.896761",
     "start_time": "2017-10-18T07:35:34.795Z"
    },
    "collapsed": false
   },
   "outputs": [],
   "source": [
    "str(TanSIS_mpa_df)"
   ]
  },
  {
   "cell_type": "markdown",
   "metadata": {},
   "source": [
    "## Downloading"
   ]
  },
  {
   "cell_type": "markdown",
   "metadata": {},
   "source": [
    "* Auto-generated URLs for downloading spectral files are inside the data frame. \n",
    "* To download the spectral files, you must explicitly invoke the download operation on each URL.\n",
    "* As a demonstration, here we will only download the first 10 OPUS files from the \"mpa_df\" data frame.\n",
    "* There is some logic to force filenames to be formatted as \"ssn.subsample_id\". This is due to inconsistency in the naming schemes used by different labs."
   ]
  },
  {
   "cell_type": "code",
   "execution_count": null,
   "metadata": {
    "ExecuteTime": {
     "end_time": "2017-10-16T05:29:13.591103",
     "start_time": "2017-10-16T03:28:39.402Z"
    },
    "collapsed": false
   },
   "outputs": [],
   "source": [
    "progress_bar = txtProgressBar(min = 1, max = 10, initial = 0, style=3) \n",
    "setTxtProgressBar(progress_bar,0)\n",
    "for (i in 1:10) {\n",
    "    file_name = paste(as.character(mpa_df$ssn[i]), \n",
    "                      as.character(mpa_df$subsample_id[i]), sep=\".\")\n",
    "    download.file(as.character(mpa_df$binary_file[i]), method=\"curl\", destfile=file_name) \n",
    "    setTxtProgressBar(progress_bar,i)\n",
    "}"
   ]
  },
  {
   "cell_type": "markdown",
   "metadata": {
    "collapsed": true
   },
   "source": [
    "## Other tables\n",
    "\n",
    "Besides spectroscopy data, AfSIS DB also houses meaurements of wet chemistry, LDPSA, Carbon and Nitrogen, soil moisture, georeferences, and more. All tables can be queried in a similar fashion, and the resulting data frames can be joined by their Soil Sample Number (SSN) as long as all labs use the same SSN when interacting with AfSIS DB. below are some examples of fetching wet chemistry data provided by One Acre Fund."
   ]
  },
  {
   "cell_type": "code",
   "execution_count": null,
   "metadata": {
    "ExecuteTime": {
     "end_time": "2017-10-16T05:39:46.720110",
     "start_time": "2017-10-16T03:39:46.706Z"
    },
    "collapsed": false
   },
   "outputs": [],
   "source": [
    "wetchem_1af_url <- \"https://afsisdb.qed.ai/cabinet/api/wetchemistry/?group=1AF\""
   ]
  },
  {
   "cell_type": "code",
   "execution_count": null,
   "metadata": {
    "ExecuteTime": {
     "end_time": "2017-10-16T05:40:39.097301",
     "start_time": "2017-10-16T03:39:47.274Z"
    },
    "collapsed": false
   },
   "outputs": [],
   "source": [
    "wetchem_1af_data <- api_to_df(wetchem_1af_url, username, password)"
   ]
  },
  {
   "cell_type": "code",
   "execution_count": null,
   "metadata": {
    "ExecuteTime": {
     "end_time": "2017-10-16T05:40:39.126427",
     "start_time": "2017-10-16T03:39:47.697Z"
    },
    "collapsed": false
   },
   "outputs": [],
   "source": [
    "str(wetchem_1af_data)"
   ]
  },
  {
   "cell_type": "code",
   "execution_count": null,
   "metadata": {
    "collapsed": true
   },
   "outputs": [],
   "source": []
  }
 ],
 "metadata": {
  "kernelspec": {
   "display_name": "R",
   "language": "R",
   "name": "ir"
  },
  "language_info": {
   "codemirror_mode": "r",
   "file_extension": ".r",
   "mimetype": "text/x-r-source",
   "name": "R",
   "pygments_lexer": "r",
   "version": "3.3.2"
  },
  "toc": {
   "colors": {
    "hover_highlight": "#DAA520",
    "running_highlight": "#FF0000",
    "selected_highlight": "#FFD700"
   },
   "moveMenuLeft": true,
   "nav_menu": {
    "height": "174px",
    "width": "252px"
   },
   "navigate_menu": true,
   "number_sections": true,
   "sideBar": true,
   "threshold": 4,
   "toc_cell": true,
   "toc_section_display": "block",
   "toc_window_display": true
  }
 },
 "nbformat": 4,
 "nbformat_minor": 0
}
